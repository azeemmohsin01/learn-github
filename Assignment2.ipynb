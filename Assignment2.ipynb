{
 "cells": [
  {
   "cell_type": "markdown",
   "id": "1148c74a",
   "metadata": {},
   "source": [
    "# Scenario 1: Grocery Shopping List\n",
    "You are creating a program to manage a grocery shopping list. Users should be able to add items, \n",
    "remove items, and display the current list."
   ]
  },
  {
   "cell_type": "code",
   "execution_count": null,
   "id": "e2a378f0",
   "metadata": {},
   "outputs": [],
   "source": [
    "shopping_list = []\n",
    "removed_item_list = []\n",
    "item_names = []\n",
    "no_of_items = int(input('Enter the number of items to be added: '))\n",
    "for i in range(no_of_items):\n",
    "    item_names = input('Enter the item name: ')\n",
    "    shopping_list.append(item_names)\n",
    "remove = input('Input Y if you want to remove the items otherwise type N:').lower()\n",
    "if remove == 'y':\n",
    "    removed_items = input('Enter the item to be deleted: ')\n",
    "    if removed_items in shopping_list:\n",
    "        shopping_list.remove(removed_items)\n",
    "        removed_item_list.append(removed_items)\n",
    "        #removed_item_list.append(shopping_list.pop(shopping_list[shopping_list.index(removed_items)]))\n",
    "    else:\n",
    "        print('The item does not exist in the list')\n",
    "else:\n",
    "    print('Good')"
   ]
  },
  {
   "cell_type": "code",
   "execution_count": null,
   "id": "1734bbde",
   "metadata": {},
   "outputs": [],
   "source": [
    "shopping_list"
   ]
  },
  {
   "cell_type": "markdown",
   "id": "7b714576",
   "metadata": {},
   "source": [
    "# Scenario 2: Student Grades\n",
    "You are managing student grades using a dictionary. You need to calculate the average grade.take \n",
    "atleast 5 Students grades & then calculate the average.\n"
   ]
  },
  {
   "cell_type": "code",
   "execution_count": null,
   "id": "d26e87d5",
   "metadata": {},
   "outputs": [],
   "source": [
    "iteration = int(input('Enter how many students\\' marks you\\'ll enter '))\n",
    "std_dict = {}\n",
    "total_marks = 0\n",
    "for i in range(iteration):\n",
    "    name = input('Enter the name of the student: ')\n",
    "    marks = int(input('Enter the marks of student: '))\n",
    "    std_dict[name] = marks\n",
    "\n",
    "for key in std_dict.keys():\n",
    "    total_marks += std_dict[key]\n",
    "\n",
    "avg = total_marks / iteration  # iterations are no. of students\n",
    "print(avg)"
   ]
  },
  {
   "cell_type": "markdown",
   "id": "56cb3ef1",
   "metadata": {},
   "source": [
    "# Scenario 3: Word Frequency Counter\n",
    "You are given a list of words, and you need to count the frequency of each word.\n",
    "word_list = [\"apple\", \"banana\", \"apple\", \"orange\", \"banana\", \"grape\", \"apple\"]"
   ]
  },
  {
   "cell_type": "code",
   "execution_count": null,
   "id": "597970f4",
   "metadata": {},
   "outputs": [],
   "source": [
    "word_checked = []\n",
    "word_list = [\"apple\", \"banana\", \"apple\", \"orange\", \"banana\", \"grape\", \"apple\"]\n",
    "for n in range(len(word_list)):\n",
    "    word_checked.append(word_list[n])\n",
    "    if word_checked.count(word_list[n]) > 1:\n",
    "        continue\n",
    "    else:\n",
    "        print(f'The word {word_list[n]} is {word_list.count(word_list[n])} times')"
   ]
  },
  {
   "cell_type": "markdown",
   "id": "e6ccd919",
   "metadata": {},
   "source": [
    "# Scenario 3: Password Strength Checker\n",
    "You are creating a program to check the strength of passwords based on certain criteria.\n",
    "• Password should be at least 8 characters long.\n",
    "• Password should contain at least one digit.\n",
    "• Password should contain at least one letter."
   ]
  },
  {
   "cell_type": "code",
   "execution_count": null,
   "id": "58a6409d",
   "metadata": {},
   "outputs": [],
   "source": [
    "numeric_digits = [1,2,3,4,5,6,7,8,9]\n",
    "letters = ['a','b','c','d','e','f','g','h','i','j','k','l','m','n','o','p','q','r','s','t','u','v','w','x','y','z']\n",
    "password = input('Enter your password: ' ).lower()\n",
    "digits = []\n",
    "password_letters = []\n",
    "length_of_password = len(password)\n",
    "if length_of_password >= 8:\n",
    "    print(f\"The length of password is {length_of_password}.\\nChecking it further.\")\n",
    "    for char in password:\n",
    "        if char.isdigit():\n",
    "            digits.append(char)\n",
    "        elif char.isalpha():\n",
    "            password_letters.append(char)\n",
    "        else:\n",
    "            continue\n",
    "    \n",
    "    # for letter in password:\n",
    "    #     if letter in letters:\n",
    "    #         password_letters.append(letter)\n",
    "    if len(digits) >= 1 and len(password_letters) >= 1:\n",
    "        print('The password is strong')\n",
    "    else:\n",
    "        print('The password is weak')"
   ]
  },
  {
   "cell_type": "markdown",
   "id": "86e1678b",
   "metadata": {},
   "source": [
    "# Scenario 04:\n",
    "Voting System (Annual Employee Recognition Awards)\n",
    "You are developing a simple voting system for a contest. Users can vote for their Favorite option, and you need to count the votes.\n",
    "\n",
    "In a corporate setting, the HR department is organizing the Annual Employee Recognition Awards, where employees get the opportunity to vote for their colleagues nominated in different categories. \n",
    "The HR team has decided to use a simple voting system to collect and tally votes for the nominees in various award categories. The script provided will be utilized for this purpose.\n",
    "\n",
    "Candidates: The nominees for different award categories, such as \"Employee of the Year,\" \"Team Player of the Year,\" and \"Innovation Award,\" are represented by the list of candidates: 'Candidate A,' 'Candidate B,' and 'Candidate C.'\n",
    "\n",
    "Voting Process: Employees are requested to input the number of voters participating in the awards. Each voter is presented with a list of nominees, and they can vote for their preferred candidate by entering the corresponding number.\n",
    "\n",
    "Validation: The script ensures that the entered vote is within the valid range of candidates. If an employee enters an invalid vote, the system prompts them to choose a valid candidate.\n",
    "Recording Votes: The script records each vote for the selected candidate and prints a confirmation message indicating that the vote has been recorded.\n",
    "\n",
    "Results Display: Once all votes are collected, the system displays the voting results, showing the \n",
    "number of votes each candidate received in each category.\n",
    "\n",
    "Award Winners: Based on the voting results, the HR department can identify the winners for each award category and proceed with recognizing and rewarding the selected employees during the Annual Employee Recognition Ceremony.\n",
    "\n",
    "This script provides a straightforward and transparent way for employees to participate in the recognition process, fostering a sense of engagement and community within the organization. The HR team can use the collected votes to acknowledge and appreciate the efforts of outstanding employees in various aspects of their work."
   ]
  },
  {
   "cell_type": "code",
   "execution_count": null,
   "id": "7d50a50d",
   "metadata": {},
   "outputs": [],
   "source": []
  }
 ],
 "metadata": {
  "kernelspec": {
   "display_name": "Python 3 (ipykernel)",
   "language": "python",
   "name": "python3"
  },
  "language_info": {
   "codemirror_mode": {
    "name": "ipython",
    "version": 3
   },
   "file_extension": ".py",
   "mimetype": "text/x-python",
   "name": "python",
   "nbconvert_exporter": "python",
   "pygments_lexer": "ipython3",
   "version": "3.11.5"
  }
 },
 "nbformat": 4,
 "nbformat_minor": 5
}
