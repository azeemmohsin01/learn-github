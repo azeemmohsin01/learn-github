{
 "cells": [
  {
   "cell_type": "markdown",
   "id": "ba93d20a-efa0-4147-9b84-5f4199a54d6b",
   "metadata": {},
   "source": [
    "# Question 1"
   ]
  },
  {
   "cell_type": "code",
   "execution_count": 3,
   "id": "977cab04-3ae6-4bdd-814f-4e46e243f154",
   "metadata": {},
   "outputs": [
    {
     "name": "stdin",
     "output_type": "stream",
     "text": [
      "Please enter salary:  50000\n",
      "Enter how long you've been working here:  6\n"
     ]
    },
    {
     "name": "stdout",
     "output_type": "stream",
     "text": [
      "Your bonus is 2500\n"
     ]
    }
   ],
   "source": [
    "salary = int(input(\"Please enter salary: \"))\n",
    "years_of_service = int(input(\"Enter how long you've been working here: \"))\n",
    "if years_of_service > 5:\n",
    "    bonus = salary * (5/100)\n",
    "    print(f\"Your bonus is {round(bonus)}\")\n",
    "else:\n",
    "    print(\"You can't avail bonus because your years of service is less than 5\")"
   ]
  },
  {
   "cell_type": "markdown",
   "id": "6c77842f-98ce-4840-9423-1c0c190c9da3",
   "metadata": {},
   "source": [
    "# Question 2"
   ]
  },
  {
   "cell_type": "code",
   "execution_count": 6,
   "id": "4c2d6d48-504e-4ac5-9ed7-d877e8b59ce5",
   "metadata": {},
   "outputs": [
    {
     "name": "stdin",
     "output_type": "stream",
     "text": [
      "Enter your age:  15\n"
     ]
    },
    {
     "name": "stdout",
     "output_type": "stream",
     "text": [
      "You are under 17. Hence, can't vote\n"
     ]
    }
   ],
   "source": [
    "age = int(input(\"Enter your age: \"))\n",
    "if age > 17:\n",
    "    print(\"You can vote\")\n",
    "else:\n",
    "    print(\"You are under 17. Hence, can't vote\")"
   ]
  },
  {
   "cell_type": "markdown",
   "id": "2e17a45a-bac4-4994-beb7-4d273d701936",
   "metadata": {},
   "source": [
    "# Question 3"
   ]
  },
  {
   "cell_type": "code",
   "execution_count": 9,
   "id": "5c24b1a7-31c3-43c9-83bf-6bb1aed57d2d",
   "metadata": {},
   "outputs": [
    {
     "name": "stdin",
     "output_type": "stream",
     "text": [
      "Enter integer number:  8\n"
     ]
    },
    {
     "name": "stdout",
     "output_type": "stream",
     "text": [
      "Even\n"
     ]
    }
   ],
   "source": [
    "num = int(input(\"Enter integer number: \"))\n",
    "if num % 2 == 0:\n",
    "    print(\"Even\")\n",
    "else:\n",
    "    print(\"Odd\")"
   ]
  },
  {
   "cell_type": "markdown",
   "id": "49315550-086b-4dfb-b9ab-f298ab4c7002",
   "metadata": {},
   "source": [
    "# Question 4"
   ]
  },
  {
   "cell_type": "code",
   "execution_count": 12,
   "id": "ccc51194-197c-434c-819f-f54319cdfe6a",
   "metadata": {},
   "outputs": [
    {
     "name": "stdin",
     "output_type": "stream",
     "text": [
      "Enter a number to check whether it's divisible by 7:  35\n"
     ]
    },
    {
     "name": "stdout",
     "output_type": "stream",
     "text": [
      "Yes, divisible by 7\n"
     ]
    }
   ],
   "source": [
    "num = int(input(\"Enter a number to check whether it's divisible by 7: \"))\n",
    "if num % 7 == 0:\n",
    "    print(\"Yes, divisible by 7\")\n",
    "else:\n",
    "    print(\"Can't be divided by 7\")"
   ]
  },
  {
   "cell_type": "markdown",
   "id": "109df9ed-111c-44e6-959a-5ac8aba78c43",
   "metadata": {},
   "source": [
    "# Question 5"
   ]
  },
  {
   "cell_type": "code",
   "execution_count": 15,
   "id": "3eaa434f-afc7-46e4-a995-201d07f93052",
   "metadata": {},
   "outputs": [
    {
     "name": "stdin",
     "output_type": "stream",
     "text": [
      "Enter a number:  20\n"
     ]
    },
    {
     "name": "stdout",
     "output_type": "stream",
     "text": [
      "Yes, it's multiple of 5\n"
     ]
    }
   ],
   "source": [
    "num = int(input(\"Enter a number: \"))\n",
    "if num % 5 == 0:\n",
    "    print(\"Yes, it's multiple of 5\")\n",
    "else:\n",
    "    print(\"Not the multiple\")"
   ]
  },
  {
   "cell_type": "markdown",
   "id": "08de72bf-f520-45c4-a058-c763d9c3707e",
   "metadata": {},
   "source": [
    "# Question 6"
   ]
  },
  {
   "cell_type": "code",
   "execution_count": 30,
   "id": "e0c60518-98c8-47a0-a5f7-64f55b3ac0e9",
   "metadata": {},
   "outputs": [
    {
     "name": "stdin",
     "output_type": "stream",
     "text": [
      "Enter the number of units:  205\n"
     ]
    },
    {
     "name": "stdout",
     "output_type": "stream",
     "text": [
      "The bill amount is 2050\n"
     ]
    }
   ],
   "source": [
    "units = int(input(\"Enter the number of units: \"))\n",
    "if units > 200:\n",
    "    amount = units * 10\n",
    "    print(f\"The bill amount is {amount}\")\n",
    "elif units > 100:\n",
    "    amount = units * 5\n",
    "    print(f\"The amount is {amount}\")\n",
    "else:\n",
    "    print(\"The bill is 0\")"
   ]
  },
  {
   "cell_type": "markdown",
   "id": "14a94642-16cc-43c9-9c46-86791138c6ef",
   "metadata": {},
   "source": [
    "# Question 7"
   ]
  },
  {
   "cell_type": "code",
   "execution_count": 16,
   "id": "895ff1c9-285c-4c33-ac81-ac2b7bf9de31",
   "metadata": {},
   "outputs": [
    {
     "name": "stdin",
     "output_type": "stream",
     "text": [
      "Enter a number 45987\n"
     ]
    },
    {
     "name": "stdout",
     "output_type": "stream",
     "text": [
      "7\n"
     ]
    }
   ],
   "source": [
    "num = input(\"Enter a number\")\n",
    "last_digit = num[-1]\n",
    "print(last_digit)"
   ]
  },
  {
   "cell_type": "markdown",
   "id": "a1b6f418-d2f7-4409-b9cb-9e372d303634",
   "metadata": {},
   "source": [
    "# Question 8"
   ]
  },
  {
   "cell_type": "code",
   "execution_count": 20,
   "id": "3b8f6fff-01ae-4f6d-a594-575876f4ca96",
   "metadata": {},
   "outputs": [
    {
     "name": "stdin",
     "output_type": "stream",
     "text": [
      "Enter a number:  86\n"
     ]
    },
    {
     "name": "stdout",
     "output_type": "stream",
     "text": [
      "Divisible by 3\n"
     ]
    }
   ],
   "source": [
    "num = input(\"Enter a number: \")\n",
    "last_digit = int(num[-1])\n",
    "if last_digit % 3 == 0:\n",
    "    print(\"Divisible by 3\")\n",
    "else:\n",
    "    print(\"Not divisible\")"
   ]
  },
  {
   "cell_type": "markdown",
   "id": "080dd04d-3115-450d-874b-201fb77d1aad",
   "metadata": {},
   "source": [
    "# Question 9"
   ]
  },
  {
   "cell_type": "code",
   "execution_count": 2,
   "id": "87fd38bb-01c7-4c4e-9764-d7b04fe5d8a7",
   "metadata": {},
   "outputs": [
    {
     "name": "stdin",
     "output_type": "stream",
     "text": [
      "Enter the length of the rectangle:  2.3\n",
      "Enter the breadth now:  2.3\n"
     ]
    },
    {
     "name": "stdout",
     "output_type": "stream",
     "text": [
      "The dimensions are for the square\n"
     ]
    }
   ],
   "source": [
    "len = float(input(\"Enter the length of the rectangle: \"))\n",
    "bred = float(input(\"Enter the breadth now: \"))\n",
    "if len == bred:\n",
    "    print(\"The dimensions are for the square\")\n",
    "else:\n",
    "    print(\"The dimensions are for the rectangle\")"
   ]
  },
  {
   "cell_type": "markdown",
   "id": "396726a0-fa88-4423-825e-4c64d96ccde9",
   "metadata": {},
   "source": [
    "# Question 10"
   ]
  },
  {
   "cell_type": "code",
   "execution_count": 25,
   "id": "08691a52-6c7c-4373-ad21-298b236d4a82",
   "metadata": {},
   "outputs": [
    {
     "name": "stdin",
     "output_type": "stream",
     "text": [
      "Enter first Integer Number:  10\n",
      "Enter second Integer Number:  20\n"
     ]
    },
    {
     "name": "stdout",
     "output_type": "stream",
     "text": [
      "The second number i.e. 20 is greater\n"
     ]
    }
   ],
   "source": [
    "num1 = int(input(\"Enter first Integer Number: \"))\n",
    "num2 = int(input(\"Enter second Integer Number: \"))\n",
    "if num1 > num2:\n",
    "    print(f\"The first number i.e. {num1} is greater.\")\n",
    "else:\n",
    "    print(f\"The second number i.e. {num2} is greater\")"
   ]
  },
  {
   "cell_type": "code",
   "execution_count": null,
   "id": "b5c2395e-3d44-40e2-b864-017f8a59d692",
   "metadata": {},
   "outputs": [],
   "source": []
  },
  {
   "cell_type": "markdown",
   "id": "9db8ee30-af1e-408e-8e26-2f7886159817",
   "metadata": {},
   "source": [
    "# Question 11"
   ]
  },
  {
   "cell_type": "code",
   "execution_count": 8,
   "id": "10e52686-b50a-4d03-8a9a-85f9ff86bad8",
   "metadata": {},
   "outputs": [
    {
     "name": "stdin",
     "output_type": "stream",
     "text": [
      "Enter the number of items you purchased:  12\n"
     ]
    },
    {
     "name": "stdout",
     "output_type": "stream",
     "text": [
      "You've to pay 1080 which is the discounted amount\n"
     ]
    }
   ],
   "source": [
    "items = int(input(\"Enter the number of items you purchased: \"))\n",
    "price = items * 100\n",
    "if price > 1000:\n",
    "    discount = price - (price*(10/100))\n",
    "    print(f\"You've to pay {round(discount)} which is the discounted amount\")\n",
    "else:\n",
    "    print(\"We can't give the discount as the price is less than 1000.\")"
   ]
  },
  {
   "cell_type": "markdown",
   "id": "c569bc19-8d28-49bd-b1e0-39ddf9ad68de",
   "metadata": {},
   "source": [
    "# Question 12"
   ]
  },
  {
   "cell_type": "code",
   "execution_count": 9,
   "id": "3034f6e9-6d93-44b2-8717-5338bd5baf11",
   "metadata": {},
   "outputs": [
    {
     "name": "stdin",
     "output_type": "stream",
     "text": [
      "Enter the marks:  25\n"
     ]
    },
    {
     "name": "stdout",
     "output_type": "stream",
     "text": [
      "F\n"
     ]
    }
   ],
   "source": [
    "marks = int(input(\"Enter the marks: \"))\n",
    "if marks > 80:\n",
    "    print(\"A\")\n",
    "elif marks > 60:\n",
    "    print(\"B\")\n",
    "elif marks > 50:\n",
    "    print(\"C\")\n",
    "elif marks > 45:\n",
    "    print(\"D\")\n",
    "elif marks > 25:\n",
    "    print(\"E\")\n",
    "else:\n",
    "    print(\"F\")"
   ]
  },
  {
   "cell_type": "markdown",
   "id": "a296d25c-9db9-49c6-8fd0-d9299967dc42",
   "metadata": {},
   "source": [
    "# Question 13"
   ]
  },
  {
   "cell_type": "code",
   "execution_count": 14,
   "id": "0396a88c-8702-40a0-aa81-d5ccce9266bf",
   "metadata": {},
   "outputs": [
    {
     "name": "stdin",
     "output_type": "stream",
     "text": [
      "Enter the age:  5\n",
      "Enter the age:  10\n",
      "Enter the age:  6\n"
     ]
    },
    {
     "name": "stdout",
     "output_type": "stream",
     "text": [
      "The second person age is 10 and is the greatest\n"
     ]
    }
   ],
   "source": [
    "age1 = int(input(\"Enter the age: \"))\n",
    "age2 = int(input(\"Enter the age: \"))\n",
    "age3 = int(input(\"Enter the age: \"))\n",
    "if age1 > age2 and age1 > age3:\n",
    "    print(f\"The first person age is {age1} and is the greatest among three.\")\n",
    "elif age2 > age1 and age2 > age3:\n",
    "    print(f\"The second person age is {age2} and is the greatest\")\n",
    "else:\n",
    "    print(\"The third person is the oldest.\")"
   ]
  },
  {
   "cell_type": "markdown",
   "id": "1f78a93e-a8de-446b-8a6a-5c32158b247a",
   "metadata": {},
   "source": [
    "# Questions 14"
   ]
  },
  {
   "cell_type": "code",
   "execution_count": 17,
   "id": "f77ca070-44ca-4c1e-91b5-11040a3534c3",
   "metadata": {},
   "outputs": [
    {
     "name": "stdin",
     "output_type": "stream",
     "text": [
      "Enter the total classes:  20\n",
      "Enter the attended classes:  15\n"
     ]
    },
    {
     "name": "stdout",
     "output_type": "stream",
     "text": [
      "75 is the percentage of classes you attended\n",
      "You can sit in the exams\n"
     ]
    }
   ],
   "source": [
    "classes_held = int(input(\"Enter the total classes: \"))\n",
    "classes_attended = int(input(\"Enter the attended classes: \"))\n",
    "percentage = round((classes_attended / classes_held) * 100)\n",
    "print(f\"{percentage} is the percentage of classes you attended\")\n",
    "if percentage >= 75:\n",
    "    print(\"You can sit in the exams\")\n",
    "else:\n",
    "    print(\"You can't appear in the exams\")"
   ]
  },
  {
   "cell_type": "markdown",
   "id": "1a398608-d2b8-4fa7-a195-c0e21ee8daf6",
   "metadata": {},
   "source": [
    "# Question 15"
   ]
  },
  {
   "cell_type": "code",
   "execution_count": 20,
   "id": "9886de1f-d8c8-4670-b7d1-3e1e5dce428d",
   "metadata": {},
   "outputs": [
    {
     "name": "stdin",
     "output_type": "stream",
     "text": [
      "Enter the total classes:  50\n",
      "Enter the attended classes:  42\n"
     ]
    },
    {
     "name": "stdout",
     "output_type": "stream",
     "text": [
      "84 is the percentage of classes you attended.\n",
      "You are allowed to sit in the exam.\n"
     ]
    }
   ],
   "source": [
    "classes_held = int(input(\"Enter the total classes: \"))\n",
    "classes_attended = int(input(\"Enter the attended classes: \"))\n",
    "percentage = round((classes_attended / classes_held) * 100)\n",
    "print(f\"{percentage} is the percentage of classes you attended.\")\n",
    "if percentage < 75:\n",
    "    reason = input(\"Did you have any medical problem. Type Y for yes or N for no: \").lower()\n",
    "    if reason == \"y\":\n",
    "        print(\"You don't have to worry. You can appear in the exam.\")\n",
    "    else:\n",
    "        print(\"Sorry, you can't sit for the exam.\")\n",
    "else:\n",
    "    print(\"You are allowed to sit in the exam.\")"
   ]
  },
  {
   "cell_type": "markdown",
   "id": "550fc7ab-103f-4228-8ccf-f0ad14029726",
   "metadata": {},
   "source": [
    "# Question 16"
   ]
  },
  {
   "cell_type": "code",
   "execution_count": 34,
   "id": "4e95d564-2685-4964-98c0-1d51d8917a65",
   "metadata": {},
   "outputs": [
    {
     "name": "stdin",
     "output_type": "stream",
     "text": [
      "Enter the year:  2006\n"
     ]
    },
    {
     "name": "stdout",
     "output_type": "stream",
     "text": [
      "This is not the leap year\n"
     ]
    }
   ],
   "source": [
    "year = int(input(\"Enter the year: \"))\n",
    "if year % 4 == 0:\n",
    "    if year % 400 == 0:\n",
    "        print(\"Leap Year (1)\")\n",
    "    else:\n",
    "        print(\"Leap year (2)\")\n",
    "else:\n",
    "    print(\"This is not the leap year\")"
   ]
  },
  {
   "cell_type": "markdown",
   "id": "57b6887f-6f3b-40cd-9236-daff0ffc8911",
   "metadata": {},
   "source": [
    "# Question 17"
   ]
  },
  {
   "cell_type": "code",
   "execution_count": 23,
   "id": "999afdd8-f83c-4e29-b9ff-23731b566b66",
   "metadata": {},
   "outputs": [
    {
     "name": "stdin",
     "output_type": "stream",
     "text": [
      "Enter the age:  22\n",
      "Enter the gender:  Male\n",
      "Enter the marital status:  unmarried\n"
     ]
    },
    {
     "name": "stdout",
     "output_type": "stream",
     "text": [
      "You can work anywhere\n"
     ]
    }
   ],
   "source": [
    "age = int(input(\"Enter the age: \"))\n",
    "gender = input(\"Enter the gender: \").lower()\n",
    "status = input(\"Enter the marital status: \").lower()\n",
    "if gender == \"female\":\n",
    "    print(\"You can only work in urban areas\")\n",
    "elif gender == \"male\" and (age >= 20 and age <= 40):\n",
    "    print(\"You can work anywhere\")\n",
    "elif gender == \"male\" and (age >= 40 and age <= 60):\n",
    "    print(\"You can work only in urban areas too\")\n",
    "else:\n",
    "    print(\"Error\")"
   ]
  },
  {
   "cell_type": "code",
   "execution_count": null,
   "id": "c3dfc2b5-2136-4270-a330-337eb7bb7e91",
   "metadata": {},
   "outputs": [],
   "source": []
  }
 ],
 "metadata": {
  "kernelspec": {
   "display_name": "Python 3 (ipykernel)",
   "language": "python",
   "name": "python3"
  },
  "language_info": {
   "codemirror_mode": {
    "name": "ipython",
    "version": 3
   },
   "file_extension": ".py",
   "mimetype": "text/x-python",
   "name": "python",
   "nbconvert_exporter": "python",
   "pygments_lexer": "ipython3",
   "version": "3.12.0"
  }
 },
 "nbformat": 4,
 "nbformat_minor": 5
}
